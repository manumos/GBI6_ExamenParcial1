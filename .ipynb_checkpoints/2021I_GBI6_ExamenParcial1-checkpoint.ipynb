{
 "cells": [
  {
   "cell_type": "markdown",
   "metadata": {},
   "source": [
    "<img src=\"https://www.ikiam.edu.ec/img/logo-ikiam-grey.png\" width=300 height=240 />\n",
    "\n",
    "# EXAMEN PARCIAL 1\n",
    "\n",
    "## GBI6-2021II: BIOINFORMÁTICA\n",
    "\n",
    "**Moscoso Moreno Manuela**\n",
    "\n",
    "**11-01-2021**"
   ]
  },
  {
   "cell_type": "markdown",
   "metadata": {},
   "source": []
  },
  {
   "cell_type": "markdown",
   "metadata": {},
   "source": [
    "# 1. UNIX\n",
    "\n",
    "## Ejercicio 1\n",
    "Seleccione la opción de código que imprime el directorio de trabajo actual\n",
    "\n",
    "<img src=\"data/e1.PNG\" />\n",
    "\n",
    "Se puede comprobar que el comando $pwd imprime el directorio actual.\n",
    "\n",
    "## Ejercicio 2\n",
    "Para esta pregunta debe realizar previamente lo siguiente: \n",
    "\n",
    "1.Imprimir el directorio de trabajo actual \n",
    "\n",
    "2.Crear un directorio test1\n",
    "\n",
    "3.No cambie de directorio, pero los items 4, 5 y 6 deben guardarse en el directorio creado en el paso 2.\n",
    "\n",
    "4.Crear el archivo test1.txt\n",
    "\n",
    "5.Guardar el texto Hola GBI6 en un archivo test2.txt\n",
    "\n",
    "6.Guardar la instrucción print(\"Hola GBI6\")  en el archivo test1.py\n",
    "\n",
    "Luego seleccione la instrucción que enlista los archivos del directorio test1 y luego borra test1.py del directorio test1\n",
    "\n",
    "\n",
    "<img src=\"data/e2.PNG\" />\n",
    "\n",
    "\n",
    "Tuve un pequeños error en la penúltima línea por olvidar el número 1 de test1.py\n",
    "\n",
    "## Ejercicio 3\n",
    "Para esta pregunta debe realizar previamente lo siguiente: \n",
    "\n",
    "1. Imprimir el directorio de trabajo actual \n",
    "\n",
    "2. Crear un directorio test1\n",
    "\n",
    "3. No cambie de directorio, pero los items 4, 5 y 6 deben guardarse en el directorio creado en el paso 2. \n",
    "\n",
    "4. Crear el archivo test1.txt\n",
    "\n",
    "5. Guardar el texto Hola GBI6 en un archivo test2.txt\n",
    "\n",
    "6. Guardar la instrucción print(\"Hola GBI6\")  en el archivo test1.py\n",
    "\n",
    "Luego seleccione la instrucción que agregue el texto \"El examen parcial de GBI6 es hoy al archivo\" test2.txt sin reemplazar y imprima el contenido en la consola.\n",
    "\n",
    "<img src=\"data/e3.PNG\" />\n",
    "\n",
    "## Ejercicio 4\n",
    "Resuelva el ejercicio 1.10.2 Hormone Levels in Baboons. \n",
    "\n",
    "Resuelva el ejercicio en un documento de nombre ejercicio_1102.sh\n",
    "\n",
    "Cargue el documento ejercicio_1102.sh en GitHub utilizando git push.\n",
    "\n",
    "Realice el video explicativo de la resolución ejercicio y guarde en YouTube en formato \"Público\" o \"Unlisted\", y pegue el enlace en el cuaderno de Jupyter.\n",
    "\n",
    "La respuesta a este ejercicio es el enlace en GitHub de su archivo: ejercicio_1102.sh\n",
    "\n",
    "Respuesta:https://github.com/manumos/Examen-parcial1/blob/7cea21abf51e17b1302c4c0c95085ebdedf21bb7/ejercicio_1101.sh\n"
   ]
  },
  {
   "cell_type": "code",
   "execution_count": 72,
   "metadata": {},
   "outputs": [
    {
     "data": {
      "text/html": [
       "<iframe width=\"560\" height=\"315\" src=\"https://youtu.be/pXYy2ZxCbKQ\" title=\"YouTube video player\" frameborder=\"0\" allow=\"accelerometer; autoplay; clipboard-write; encrypted-media; gyroscope; picture-in-picture\" allowfullscreen></iframe>"
      ],
      "text/plain": [
       "<IPython.core.display.HTML object>"
      ]
     },
     "execution_count": 72,
     "metadata": {},
     "output_type": "execute_result"
    }
   ],
   "source": [
    "# Coloque aquí su video del ejercicio 4\n",
    "from IPython.display import HTML\n",
    "HTML('<iframe width=\"560\" height=\"315\" src=\"https://youtu.be/pXYy2ZxCbKQ\" title=\"YouTube video player\" frameborder=\"0\" allow=\"accelerometer; autoplay; clipboard-write; encrypted-media; gyroscope; picture-in-picture\" allowfullscreen></iframe>')\n"
   ]
  },
  {
   "cell_type": "markdown",
   "metadata": {},
   "source": [
    "\n",
    "## Ejercicio 5\n",
    "Resuelva el ejercicio 1.10.1 Next Generation Sequencing Data. \n",
    "\n",
    "Resuelva el ejercicio en un documento de nombre ejercicio_1101.sh\n",
    "\n",
    "Cargue el documento ejercicio_1101.sh en GitHub utilizando git push. \n",
    "\n",
    "Realice el video explicativo de la resolución ejercicio y guarde en YouTube en formato \"Público\" o \"Unlisted\", y pegue el enlace en el cuaderno de Jupyter.\n",
    "\n",
    "La respuesta a este ejercicio es el enlace en GitHub de su archivo: ejercicio_1101.sh \n",
    "\n",
    "Respuesta: https://github.com/manumos/Examen-parcial1/blob/05e09cad21701135ccbfe8f5bdeb1a2f21a63ba4/ejercicio_1102.sh\n"
   ]
  },
  {
   "cell_type": "code",
   "execution_count": 3,
   "metadata": {},
   "outputs": [
    {
     "data": {
      "text/html": [
       "<iframe width=\"560\" height=\"315\" src=\"https://youtu.be/NQHDpcWiiH8\" title=\"YouTube video player\" frameborder=\"0\" allow=\"accelerometer; autoplay; clipboard-write; encrypted-media; gyroscope; picture-in-picture\" allowfullscreen></iframe>"
      ],
      "text/plain": [
       "<IPython.core.display.HTML object>"
      ]
     },
     "execution_count": 3,
     "metadata": {},
     "output_type": "execute_result"
    }
   ],
   "source": [
    "# Coloque aquí su video del ejercicio 5\n",
    "from IPython.display import HTML\n",
    "HTML('<iframe width=\"560\" height=\"315\" src=\"https://youtu.be/NQHDpcWiiH8\" title=\"YouTube video player\" frameborder=\"0\" allow=\"accelerometer; autoplay; clipboard-write; encrypted-media; gyroscope; picture-in-picture\" allowfullscreen></iframe>')\n"
   ]
  },
  {
   "cell_type": "markdown",
   "metadata": {
    "jp-MarkdownHeadingCollapsed": true,
    "tags": []
   },
   "source": [
    "\n",
    "# 2. CONTROL DE LA VERSIÓN\n",
    "## Pregunta 6\n",
    "1. Cree en GitHub un repositorio de nombre ```GBI6_ExamenParcial1```. \n",
    "2. Cree un archivo ```Readme.md``` que debe tener lo siguiente: \n",
    "- Datos personales\n",
    "- Características del computador\n",
    "- Programas utilizados\n",
    "- Explicación de la data utilizada\n",
    "Respuesta: https://github.com/manumos/GBI6_ExamenParcial1.git\n",
    "\n",
    "\n",
    "## Pregunta 7\n",
    "1. Cada vez que resuelva un ejercicio (del 1 al 10), utilizando Git Bash, GitHub Desktop o Atom realice un *git push* con el mensaje: \n",
    "\n",
    "\n",
    "<font color='red'>Apellido Nombre ha resuelto el ejercicio 1</font> % Cambie con sus apellidos y nombres; y con el número de ejercicio que corresponda \n",
    "\n",
    "2. Coloque aquí las capturas de pantalla para cada git push realizado desde Git Bash, GitHub Desktop o Atom. \n",
    "\n",
    "- Control de versión ejercicio 1\n",
    "\n",
    "<img src=\"data/gp1.PNG\" />\n",
    "\n",
    "- Control de versión ejercicio 2\n",
    "\n",
    "<img src=\"data/gp2.PNG\" />\n",
    "\n",
    "- Control de versión ejercicio 3\n",
    "\n",
    "<img src=\"data/gp3.PNG\" />\n",
    "\n",
    "- Control de versión ejercicio 4\n",
    "\n",
    "<img src=\"data/gp4.PNG\" />\n",
    "\n",
    "- Control de versión ejercicio 5\n",
    "\n",
    "<img src=\"data/gp5.PNG\" />\n",
    "\n",
    "- Control de versión ejercicio 6\n",
    "\n",
    "<img src=\"data/gp6.png\" />\n",
    "\n",
    "- Control de versión ejercicio 7\n",
    "\n",
    "<img src=\"data/gp7.png\" />\n",
    "\n",
    "- Control de versión ejercicio 8\n",
    "\n",
    "<img src=\"data/gp8.png\" />\n",
    "\n",
    "- Control de versión ejercicio 9\n",
    "\n",
    "<img src=\"data/gp9.PNG\" />\n",
    "\n",
    "- Control de versión ejercicio 10\n",
    "<img src=\"data/gp10.PNG\" />\n",
    "\n",
    "\n",
    "3. Cree un directorio de nombre ```data``` donde deben estar guardados: (i) la data utilizada y (ii) las capturas de pantalla de los ejercicios 1 al 3 y los git push del ejercicio 1 al 10 (en total debe tener 13 imágenes). \n",
    "4. Inserte aquí el enlace de su repositorio (válido para el ejercicio 6 y 7)\n",
    "\n",
    "Respuesta:\n",
    "https://github.com/manumos/GBI6_ExamenParcial1/tree/main/data"
   ]
  },
  {
   "cell_type": "markdown",
   "metadata": {},
   "source": [
    "# 3. INTRODUCCIÓN A PYTHON\n",
    "\n",
    "## Ejercicio 8\n",
    "\n",
    "Para este ejercicio tiene que crear previamente lo siguiente: \n",
    "\n",
    "En la data https://github.com/sap0408/mtcars/blob/master/mtcars.csv, seleccione los 10 primeros registros y cree una lista de nombre lista1.\n",
    "\n",
    "Relaciones los códigos y las respuestas que salen al ejecutar."
   ]
  },
  {
   "cell_type": "code",
   "execution_count": 67,
   "metadata": {},
   "outputs": [
    {
     "name": "stdout",
     "output_type": "stream",
     "text": [
      "['Mazda RX4', 'Mazda RX4 Wag', 'Datsun 710', 'Hornet 4 Drive', 'Hornet Sportabout', 'Valiant', 'Duster 360', 'Merc 240D', 'Merc 230']\n"
     ]
    },
    {
     "data": {
      "text/plain": [
       "'Hornet Sportabout'"
      ]
     },
     "execution_count": 67,
     "metadata": {},
     "output_type": "execute_result"
    }
   ],
   "source": [
    "lista1= [\"Mazda RX4\", \"Mazda RX4 Wag\", \"Datsun 710\", \"Hornet 4 Drive\", \"Hornet Sportabout\", \"Valiant\", \"Duster 360\", \"Merc 240D\", \"Merc 230\"]\n",
    "print (lista1)\n",
    "lista1[3]\n",
    "lista1.append([\"gbi6\", \"bio1\", \"ikiam\"])\n",
    "\n",
    "lista1[-1][-3]\n",
    "lista1[2:5]\n",
    "lista1.append([\"gbi6\", \"bio1\", \"ikiam\"])\n",
    "\n",
    "len(lista1)\n",
    "lista1[4]\n",
    "\n"
   ]
  },
  {
   "cell_type": "markdown",
   "metadata": {},
   "source": [
    "## Ejercicio 9\n",
    "\n",
    "Para este ejercicio debe debe realizar lo siguiente:\n",
    "\n",
    "Crear un diccionario de nombre dic_genomas, donde se tenga la información de la tabla 1 que se encuentra en  https://www.nature.com/scitable/topicpage/eukaryotic-genome-complexity-437/.  \n",
    "Utilice como \"key\" los valores especie de la columna \"Species and Common Name\" y las otras dos columnas ingrese como \"values\". \n",
    "Luego de crear el diccionario, extraiga los valores de \"key\" a una lista de nombre \"especies\"\n",
    "Extraiga los valores de \"value\" a una lista de nombre \"genomas\"\n",
    "Para evaluar esta pregunta realice un git push del Jupyter Notebook al repositorio del examen.\n",
    "\n",
    "Respuesta:\n",
    "https://github.com/manumos/GBI6_ExamenParcial1/blob/9b9f1f0cc1867e6a387248db74ac38e8571476e8/2021I_GBI6_ExamenParcial1.ipynb"
   ]
  },
  {
   "cell_type": "code",
   "execution_count": 71,
   "metadata": {},
   "outputs": [
    {
     "name": "stdout",
     "output_type": "stream",
     "text": [
      "dict_keys(['Saccharomyces_cerevisiae', 'Trichomonas_vaginalis', 'Plasmodium_falciparum', 'Caenorhabditis_elegans', 'Drosophila_melanogaste', 'Arabidopsis_thaliana', 'Oryza_sativa', 'Gallus_gallus', 'Canis_familiaris', 'Mus_musculus', 'Homo_sapiens'])\n",
      "dict_values([[120, 6], [160, 60], [23, 5], [955, 18], [170, 14], [125, 25], [470, 51], [1000, 20], [24000, 19], [25000, 30], [29000, 20]])\n"
     ]
    }
   ],
   "source": [
    "dic_genoma= dict(\n",
    "    \n",
    "    Saccharomyces_cerevisiae= [120 , 6],\n",
    "    Trichomonas_vaginalis= [160 , 60],\n",
    "    Plasmodium_falciparum = [23 , 5],\n",
    "    Caenorhabditis_elegans= [955 , 18],\n",
    "    Drosophila_melanogaste= [170 , 14],\n",
    "    Arabidopsis_thaliana= [125 , 25],\n",
    "    Oryza_sativa= [470 , 51],\n",
    "    Gallus_gallus= [1000 , 20],\n",
    "    Canis_familiaris= [24000,19],\n",
    "    Mus_musculus= [25000 , 30],\n",
    "    Homo_sapiens= [29000 , 20],\n",
    "\n",
    ")\n",
    "\n",
    "\n",
    "especies =(dic_genoma.keys())\n",
    "\n",
    "print(especies)\n",
    "\n",
    "genomas =(dic_genoma.values())\n",
    "\n",
    "print(genomas)\n",
    "\n"
   ]
  },
  {
   "cell_type": "markdown",
   "metadata": {},
   "source": [
    "## Ejercicio 10\n",
    "\n",
    "Para este ejercicio tiene que crear previamente lo siguiente: \n",
    "\n",
    "Descargue la data \"SI Table 1\" (10080Table1.xls) de la página https://www.pnas.org/content/suppl/2006/12/27/0610080104.DC1. Esta data corresponde a algunas características de sueño de mamíferos. Seleccione los 10 primeros registros de la columna \"Total sleep time, hr\" y cree una lista de nombre lista1.\n",
    "\n",
    "Relaciones los códigos y las respuestas que salen al ejecutar. "
   ]
  },
  {
   "cell_type": "code",
   "execution_count": 70,
   "metadata": {},
   "outputs": [
    {
     "ename": "TypeError",
     "evalue": "unsupported operand type(s) for +: 'float' and 'list'",
     "output_type": "error",
     "traceback": [
      "\u001b[1;31m---------------------------------------------------------------------------\u001b[0m",
      "\u001b[1;31mTypeError\u001b[0m                                 Traceback (most recent call last)",
      "\u001b[1;32m~\\AppData\\Local\\Temp/ipykernel_11916/57204527.py\u001b[0m in \u001b[0;36m<module>\u001b[1;34m\u001b[0m\n\u001b[0;32m      3\u001b[0m \u001b[0mlista1\u001b[0m\u001b[1;33m.\u001b[0m\u001b[0mappend\u001b[0m\u001b[1;33m(\u001b[0m\u001b[1;33m[\u001b[0m\u001b[1;34m\"gbi6\"\u001b[0m\u001b[1;33m,\u001b[0m \u001b[1;34m\"bio1\"\u001b[0m\u001b[1;33m,\u001b[0m \u001b[1;34m\"ikiam\"\u001b[0m\u001b[1;33m]\u001b[0m\u001b[1;33m)\u001b[0m\u001b[1;33m\u001b[0m\u001b[1;33m\u001b[0m\u001b[0m\n\u001b[0;32m      4\u001b[0m \u001b[0mlista1\u001b[0m\u001b[1;33m[\u001b[0m\u001b[1;33m-\u001b[0m\u001b[1;36m1\u001b[0m\u001b[1;33m]\u001b[0m\u001b[1;33m[\u001b[0m\u001b[1;36m2\u001b[0m\u001b[1;33m]\u001b[0m\u001b[1;33m\u001b[0m\u001b[1;33m\u001b[0m\u001b[0m\n\u001b[1;32m----> 5\u001b[1;33m \u001b[0msum\u001b[0m\u001b[1;33m(\u001b[0m\u001b[0mlista1\u001b[0m\u001b[1;33m)\u001b[0m\u001b[1;33m/\u001b[0m\u001b[0mlen\u001b[0m\u001b[1;33m(\u001b[0m\u001b[0mlista1\u001b[0m\u001b[1;33m)\u001b[0m\u001b[1;33m\u001b[0m\u001b[1;33m\u001b[0m\u001b[0m\n\u001b[0m\u001b[0;32m      6\u001b[0m \u001b[1;31m#lista1[8:]\u001b[0m\u001b[1;33m\u001b[0m\u001b[1;33m\u001b[0m\u001b[0m\n\u001b[0;32m      7\u001b[0m \u001b[1;31m#lista1[5]\u001b[0m\u001b[1;33m\u001b[0m\u001b[1;33m\u001b[0m\u001b[0m\n",
      "\u001b[1;31mTypeError\u001b[0m: unsupported operand type(s) for +: 'float' and 'list'"
     ]
    }
   ],
   "source": [
    "lista1= [8.6, 18.0, 19.4, 13.7, 11.1, 10.1, 10.3, 15.6, 14.9, 9.1]\n",
    "#print (lista1)\n",
    "lista1.append([\"gbi6\", \"bio1\", \"ikiam\"])\n",
    "lista1[-1][2]\n",
    "sum(lista1)/len(lista1)\n",
    "lista1[8:]\n",
    "lista1[5]\n",
    "sum(lista1)/len(lista1)\n",
    "round(sum(lista1)/len(lista1),3)\n",
    "lista1.append([\"gbi6\", \"bio1\", \"ikiam\"])"
   ]
  }
 ],
 "metadata": {
  "kernelspec": {
   "display_name": "Python 3 (ipykernel)",
   "language": "python",
   "name": "python3"
  },
  "language_info": {
   "codemirror_mode": {
    "name": "ipython",
    "version": 3
   },
   "file_extension": ".py",
   "mimetype": "text/x-python",
   "name": "python",
   "nbconvert_exporter": "python",
   "pygments_lexer": "ipython3",
   "version": "3.9.7"
  },
  "latex_envs": {
   "LaTeX_envs_menu_present": true,
   "autoclose": false,
   "autocomplete": true,
   "bibliofile": "biblio.bib",
   "cite_by": "apalike",
   "current_citInitial": 1,
   "eqLabelWithNumbers": true,
   "eqNumInitial": 1,
   "hotkeys": {
    "equation": "Ctrl-E",
    "itemize": "Ctrl-I"
   },
   "labels_anchors": false,
   "latex_user_defs": false,
   "report_style_numbering": false,
   "user_envs_cfg": false
  },
  "toc": {
   "base_numbering": 1,
   "nav_menu": {},
   "number_sections": true,
   "sideBar": false,
   "skip_h1_title": false,
   "title_cell": "Table of Contents",
   "title_sidebar": "Contents",
   "toc_cell": false,
   "toc_position": {
    "height": "1152.67px",
    "left": "41px",
    "top": "110px",
    "width": "253.458px"
   },
   "toc_section_display": true,
   "toc_window_display": false
  },
  "varInspector": {
   "cols": {
    "lenName": 16,
    "lenType": 16,
    "lenVar": 40
   },
   "kernels_config": {
    "python": {
     "delete_cmd_postfix": "",
     "delete_cmd_prefix": "del ",
     "library": "var_list.py",
     "varRefreshCmd": "print(var_dic_list())"
    },
    "r": {
     "delete_cmd_postfix": ") ",
     "delete_cmd_prefix": "rm(",
     "library": "var_list.r",
     "varRefreshCmd": "cat(var_dic_list()) "
    }
   },
   "types_to_exclude": [
    "module",
    "function",
    "builtin_function_or_method",
    "instance",
    "_Feature"
   ],
   "window_display": false
  }
 },
 "nbformat": 4,
 "nbformat_minor": 4
}
